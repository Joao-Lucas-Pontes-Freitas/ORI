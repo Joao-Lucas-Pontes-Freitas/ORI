{
 "cells": [
  {
   "cell_type": "code",
   "execution_count": 23,
   "id": "c7239bc7",
   "metadata": {},
   "outputs": [
    {
     "name": "stdout",
     "output_type": "stream",
     "text": [
      "Note: you may need to restart the kernel to use updated packages.\n"
     ]
    }
   ],
   "source": [
    "pip install unidecode --quiet"
   ]
  },
  {
   "cell_type": "code",
   "execution_count": 24,
   "id": "d935a21b",
   "metadata": {},
   "outputs": [],
   "source": [
    "from unidecode import unidecode\n",
    "import string\n",
    "\n",
    "def index(arquivo):\n",
    "    with open(arquivo, encoding='utf-8') as entrada:\n",
    "        texto = entrada.read()\n",
    "        texto_sem_acentos = unidecode(texto)\n",
    "\n",
    "        limpar = str.maketrans('', '', string.punctuation)\n",
    "        texto_sem_pontuacao = texto_sem_acentos.translate(limpar)\n",
    "\n",
    "        palavras = texto_sem_pontuacao.split()\n",
    "        minusculas = [palavra.lower() for palavra in palavras]\n",
    "\n",
    "        palavras_validas = [palavra for palavra in minusculas if palavra]\n",
    "        unicas = set(palavras_validas)\n",
    "        ordenado = sorted(unicas)\n",
    "        \n",
    "    for palavra in ordenado:\n",
    "        print(palavra)"
   ]
  },
  {
   "cell_type": "code",
   "execution_count": 25,
   "id": "8a490a37",
   "metadata": {},
   "outputs": [
    {
     "name": "stdout",
     "output_type": "stream",
     "text": [
      "amado\n",
      "brasileiro\n",
      "clube\n",
      "dentre\n",
      "es\n",
      "forte\n",
      "grande\n",
      "grandes\n",
      "o\n",
      "os\n",
      "paulista\n",
      "primeiro\n",
      "salve\n",
      "tricolor\n",
      "tu\n"
     ]
    }
   ],
   "source": [
    "index('entrada.txt')"
   ]
  }
 ],
 "metadata": {
  "kernelspec": {
   "display_name": "Python 3",
   "language": "python",
   "name": "python3"
  },
  "language_info": {
   "codemirror_mode": {
    "name": "ipython",
    "version": 3
   },
   "file_extension": ".py",
   "mimetype": "text/x-python",
   "name": "python",
   "nbconvert_exporter": "python",
   "pygments_lexer": "ipython3",
   "version": "3.12.6"
  }
 },
 "nbformat": 4,
 "nbformat_minor": 5
}
