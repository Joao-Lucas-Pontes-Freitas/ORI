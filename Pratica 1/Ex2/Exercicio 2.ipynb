{
 "cells": [
  {
   "cell_type": "code",
   "execution_count": 11,
   "id": "c0df3e57",
   "metadata": {},
   "outputs": [],
   "source": [
    "from unidecode import unidecode"
   ]
  },
  {
   "cell_type": "code",
   "execution_count": 12,
   "id": "ddfeb264",
   "metadata": {},
   "outputs": [],
   "source": [
    "def index_arquivo(arquivo):\n",
    "\n",
    "    with open(arquivo, encoding='utf-8') as entrada:\n",
    "        texto = entrada.read()\n",
    "        texto_sem_acentos = unidecode(texto)\n",
    "\n",
    "        limpar = str.maketrans('', '', string.punctuation)\n",
    "        texto_sem_pontuacao = texto_sem_acentos.translate(limpar)\n",
    "\n",
    "        palavras = texto_sem_pontuacao.split()\n",
    "        minusculas = [palavra.lower() for palavra in palavras]\n",
    "\n",
    "        palavras_validas = [palavra for palavra in minusculas if palavra]\n",
    "        unicas = set(palavras_validas)\n",
    "        ordenado = sorted(unicas)\n",
    "\n",
    "    return ordenado\n",
    "\n",
    "def bag_of_words(entrada, vocabulario):\n",
    "    palavras_vocabulario = index_arquivo(vocabulario)\n",
    "    palavras_entrada = index_arquivo(entrada)\n",
    "\n",
    "    bag = {palavra: 0 for palavra in palavras_vocabulario}\n",
    "    for palavra in palavras_vocabulario:\n",
    "        if palavra in palavras_entrada and bag[palavra] == 0:\n",
    "            bag[palavra] = 1\n",
    "\n",
    "    return bag"
   ]
  },
  {
   "cell_type": "code",
   "execution_count": 13,
   "id": "4c5bedc1",
   "metadata": {},
   "outputs": [
    {
     "name": "stdout",
     "output_type": "stream",
     "text": [
      "{'amado': 0, 'brasileiro': 0, 'clube': 0, 'dentre': 1, 'es': 1, 'forte': 1, 'grande': 1, 'grandes': 1, 'o': 1, 'os': 1, 'paulista': 0, 'primeiro': 1, 'salve': 0, 'tricolor': 0, 'tu': 1}\n",
      "[0, 0, 0, 1, 1, 1, 1, 1, 1, 1, 0, 1, 0, 0, 1]\n",
      "True\n"
     ]
    }
   ],
   "source": [
    "bag = bag_of_words('entrada.txt', 'vocabulario.txt')\n",
    "print(bag)\n",
    "\n",
    "lista = list(bag.values())\n",
    "print(lista)\n",
    "\n",
    "print(lista == [0, 0, 0, 1, 1, 1, 1, 1, 1, 1, 0, 1, 0, 0, 1])"
   ]
  }
 ],
 "metadata": {
  "kernelspec": {
   "display_name": "Python 3",
   "language": "python",
   "name": "python3"
  },
  "language_info": {
   "codemirror_mode": {
    "name": "ipython",
    "version": 3
   },
   "file_extension": ".py",
   "mimetype": "text/x-python",
   "name": "python",
   "nbconvert_exporter": "python",
   "pygments_lexer": "ipython3",
   "version": "3.12.6"
  }
 },
 "nbformat": 4,
 "nbformat_minor": 5
}
